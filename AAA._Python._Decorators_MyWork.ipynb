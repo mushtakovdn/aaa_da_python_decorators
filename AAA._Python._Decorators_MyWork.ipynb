{
 "cells": [
  {
   "cell_type": "markdown",
   "id": "11a22a53",
   "metadata": {},
   "source": [
    "# Дектораторы\n",
    "\n",
    "В этом домашнем задании мы напишем собственные дектораторы, которые будут менять системные объекты. Но для начала мы с вами познакомимся с функцией `write`."
   ]
  },
  {
   "cell_type": "code",
   "execution_count": 1,
   "id": "2c2dc3b0",
   "metadata": {
    "ExecuteTime": {
     "end_time": "2022-11-21T21:29:53.654247Z",
     "start_time": "2022-11-21T21:29:53.634373Z"
    }
   },
   "outputs": [
    {
     "name": "stdout",
     "output_type": "stream",
     "text": [
      "Hello, my friend!"
     ]
    },
    {
     "data": {
      "text/plain": [
       "17"
      ]
     },
     "execution_count": 1,
     "metadata": {},
     "output_type": "execute_result"
    }
   ],
   "source": [
    "import sys\n",
    "import datetime\n",
    "\n",
    "sys.stdout.write('Hello, my friend!')"
   ]
  },
  {
   "cell_type": "markdown",
   "id": "23c92635",
   "metadata": {},
   "source": [
    "Это метод объектов file-like классов, то есть классов, которые реализуют семантику \"Меня можно создать, из меня можно прочитать и в меня можно записать\".\n",
    "\n",
    "Самый главный пример такого объекта -- объект `file`, являющийся результатом вызова фукнции `open()`. Для простоты и универсальности взаимодействия, стандартный ввод и стандартный вывод тоже являются файлами, из которых можно читать и в которые можно писать. "
   ]
  },
  {
   "cell_type": "code",
   "execution_count": 2,
   "id": "0ce62055",
   "metadata": {
    "ExecuteTime": {
     "end_time": "2022-11-21T21:29:54.398038Z",
     "start_time": "2022-11-21T21:29:54.390663Z"
    }
   },
   "outputs": [],
   "source": [
    "output = open(\"./some_test_data.txt\", 'w')"
   ]
  },
  {
   "cell_type": "code",
   "execution_count": 3,
   "id": "302f574f",
   "metadata": {
    "ExecuteTime": {
     "end_time": "2022-11-21T21:29:55.057784Z",
     "start_time": "2022-11-21T21:29:55.049934Z"
    }
   },
   "outputs": [
    {
     "data": {
      "text/plain": [
       "3"
      ]
     },
     "execution_count": 3,
     "metadata": {},
     "output_type": "execute_result"
    }
   ],
   "source": [
    "output.write('123')"
   ]
  },
  {
   "cell_type": "code",
   "execution_count": 4,
   "id": "d08c53b4",
   "metadata": {
    "ExecuteTime": {
     "end_time": "2022-11-21T21:29:57.688071Z",
     "start_time": "2022-11-21T21:29:57.683515Z"
    }
   },
   "outputs": [],
   "source": [
    "output.close()"
   ]
  },
  {
   "cell_type": "markdown",
   "id": "b3bcebad",
   "metadata": {},
   "source": [
    "Как вы могли заметить, функция возвращает число записанных байт. Это важная часть контракта, которую нужно поддержать, если вы хотите как-то подменять эту функцию."
   ]
  },
  {
   "cell_type": "markdown",
   "id": "23b94491",
   "metadata": {},
   "source": [
    "## Задача 1"
   ]
  },
  {
   "cell_type": "markdown",
   "id": "1eb22a2f",
   "metadata": {},
   "source": [
    "Для начала, давайте подменим метод `write` у объекта `sys.stdin` на такую функцию, которая перед каждым вызовом оригинальной функции записи данных в `stdout` допечатывает к тексту текущую метку времени."
   ]
  },
  {
   "cell_type": "code",
   "execution_count": 5,
   "id": "ae3b46d0",
   "metadata": {
    "ExecuteTime": {
     "end_time": "2022-11-21T21:29:59.619991Z",
     "start_time": "2022-11-21T21:29:59.617162Z"
    }
   },
   "outputs": [],
   "source": [
    "original_write = sys.stdout.write"
   ]
  },
  {
   "cell_type": "code",
   "execution_count": 6,
   "id": "c599d8b5",
   "metadata": {
    "ExecuteTime": {
     "end_time": "2022-11-21T21:29:59.977513Z",
     "start_time": "2022-11-21T21:29:59.973586Z"
    }
   },
   "outputs": [
    {
     "name": "stdout",
     "output_type": "stream",
     "text": [
      "1, 2, 3\n"
     ]
    }
   ],
   "source": [
    "print('1, 2, 3')"
   ]
  },
  {
   "cell_type": "code",
   "execution_count": 13,
   "id": "732073b9",
   "metadata": {
    "ExecuteTime": {
     "end_time": "2022-11-21T21:35:01.713751Z",
     "start_time": "2022-11-21T21:35:01.707631Z"
    }
   },
   "outputs": [],
   "source": [
    "def my_write(string_text):\n",
    "    now_dt = datetime.datetime.now()\n",
    "    now_str = datetime.date.strftime(now_dt, format='%Y-%m-%d %H:%M:%S')\n",
    "    if string_text not in [None, '\\n', ' ', '\\t', '']:\n",
    "        new_text = '[' + now_str + ']: ' + string_text\n",
    "        original_write(new_text)\n",
    "        return len(new_text)\n",
    "    else:\n",
    "        original_write(string_text)\n",
    "        return len(string_text)\n",
    "    \n",
    "\n",
    "sys.stdout.write = my_write"
   ]
  },
  {
   "cell_type": "code",
   "execution_count": 14,
   "id": "f1072486",
   "metadata": {
    "ExecuteTime": {
     "end_time": "2022-11-21T21:35:02.102742Z",
     "start_time": "2022-11-21T21:35:02.094538Z"
    }
   },
   "outputs": [
    {
     "name": "stdout",
     "output_type": "stream",
     "text": [
      "[2022-11-22 00:35:02]: 1, 2, 3"
     ]
    },
    {
     "data": {
      "text/plain": [
       "30"
      ]
     },
     "execution_count": 14,
     "metadata": {},
     "output_type": "execute_result"
    }
   ],
   "source": [
    "sys.stdout.write('1, 2, 3')"
   ]
  },
  {
   "cell_type": "markdown",
   "id": "3c5e22b6",
   "metadata": {},
   "source": [
    "Вывод должен был бы быть примерно таким:"
   ]
  },
  {
   "cell_type": "markdown",
   "id": "e62d012d",
   "metadata": {},
   "source": [
    "```\n",
    "[2021-12-05 12:00:00]: 1, 2, 3\n",
    "```"
   ]
  },
  {
   "cell_type": "code",
   "execution_count": 15,
   "id": "3a6af333",
   "metadata": {
    "ExecuteTime": {
     "end_time": "2022-11-21T21:35:04.948752Z",
     "start_time": "2022-11-21T21:35:04.943599Z"
    }
   },
   "outputs": [
    {
     "name": "stdout",
     "output_type": "stream",
     "text": [
      "[2022-11-22 00:35:04]: 1, 2, 3\n"
     ]
    }
   ],
   "source": [
    "print('1, 2, 3')"
   ]
  },
  {
   "cell_type": "code",
   "execution_count": 17,
   "id": "37617332",
   "metadata": {
    "ExecuteTime": {
     "end_time": "2022-11-21T21:35:14.032045Z",
     "start_time": "2022-11-21T21:35:14.027494Z"
    }
   },
   "outputs": [],
   "source": [
    "sys.stdout.write = original_write"
   ]
  },
  {
   "cell_type": "markdown",
   "id": "903fcee1",
   "metadata": {},
   "source": [
    "## Задача 2\n",
    "\n",
    "Упакуйте только что написанный код в декторатор. Весь вывод фукнции должен быть помечен временными метками так, как видно выше."
   ]
  },
  {
   "cell_type": "code",
   "execution_count": 13,
   "id": "5804423b",
   "metadata": {
    "ExecuteTime": {
     "end_time": "2022-11-20T20:44:13.429079Z",
     "start_time": "2022-11-20T20:44:13.422849Z"
    }
   },
   "outputs": [],
   "source": [
    "def timed_output(function):\n",
    "    def wrapper(*args):\n",
    "        now_dt = datetime.datetime.now()\n",
    "        now_str = datetime.date.strftime(now_dt, format='%Y-%m-%d %H:%M:%S')\n",
    "        extra_txt = '[' + now_str + ']: '\n",
    "        new_args = [extra_txt + a for a in args]\n",
    "        function(*new_args)\n",
    "    return wrapper"
   ]
  },
  {
   "cell_type": "code",
   "execution_count": 14,
   "id": "f43373a5",
   "metadata": {
    "ExecuteTime": {
     "end_time": "2022-11-20T20:44:14.225141Z",
     "start_time": "2022-11-20T20:44:14.220157Z"
    }
   },
   "outputs": [],
   "source": [
    "@timed_output\n",
    "def print_greeting(name):\n",
    "    print(f'Hello, {name}!')"
   ]
  },
  {
   "cell_type": "code",
   "execution_count": 15,
   "id": "6a2283db",
   "metadata": {
    "ExecuteTime": {
     "end_time": "2022-11-20T20:44:15.039888Z",
     "start_time": "2022-11-20T20:44:15.034313Z"
    }
   },
   "outputs": [
    {
     "name": "stdout",
     "output_type": "stream",
     "text": [
      "Hello, [2022-11-20 23:44:15]: Nikita!\n"
     ]
    }
   ],
   "source": [
    "print_greeting(\"Nikita\")"
   ]
  },
  {
   "cell_type": "markdown",
   "id": "37fad5fd",
   "metadata": {},
   "source": [
    "Вывод должен быть похож на следующий:\n",
    "\n",
    "```\n",
    "[2021-12-05 12:00:00]: Hello, Nikita!\n",
    "```"
   ]
  },
  {
   "cell_type": "markdown",
   "id": "8a3aee6d",
   "metadata": {},
   "source": [
    "## Задача 3\n",
    "\n",
    "Напишите декторатор, который будет перенаправлять вывод фукнции в файл. \n",
    "\n",
    "Подсказка: вы можете заменить объект sys.stdout каким-нибудь другим объектом."
   ]
  },
  {
   "cell_type": "code",
   "execution_count": 16,
   "id": "de733186",
   "metadata": {
    "ExecuteTime": {
     "end_time": "2022-11-20T20:44:16.617860Z",
     "start_time": "2022-11-20T20:44:16.611950Z"
    }
   },
   "outputs": [],
   "source": [
    "def redirect_output(filepath):\n",
    "    def decorator(func):\n",
    "        def wrapper(*args):\n",
    "            original_stdout = sys.stdout\n",
    "            sys.stdout = open(filepath, \"w\")\n",
    "            func(*args)\n",
    "            sys.stdout.close()\n",
    "            sys.stdout = original_stdout\n",
    "        return wrapper\n",
    "    return decorator\n",
    "    "
   ]
  },
  {
   "cell_type": "code",
   "execution_count": 17,
   "id": "37e01742",
   "metadata": {
    "ExecuteTime": {
     "end_time": "2022-11-20T20:44:17.063751Z",
     "start_time": "2022-11-20T20:44:17.058950Z"
    }
   },
   "outputs": [],
   "source": [
    "@redirect_output('./function_output.txt')\n",
    "def calculate():\n",
    "    for power in range(1, 5):\n",
    "        for num in range(1, 20):\n",
    "            print(num ** power, end=' ')\n",
    "        print()"
   ]
  },
  {
   "cell_type": "code",
   "execution_count": 18,
   "id": "e892f124",
   "metadata": {
    "ExecuteTime": {
     "end_time": "2022-11-20T20:44:17.590198Z",
     "start_time": "2022-11-20T20:44:17.584704Z"
    }
   },
   "outputs": [],
   "source": [
    "calculate()"
   ]
  },
  {
   "cell_type": "code",
   "execution_count": 19,
   "id": "ac06c89e",
   "metadata": {
    "ExecuteTime": {
     "end_time": "2022-11-20T20:44:18.701018Z",
     "start_time": "2022-11-20T20:44:18.547470Z"
    }
   },
   "outputs": [
    {
     "name": "stdout",
     "output_type": "stream",
     "text": [
      "1 2 3 4 5 6 7 8 9 10 11 12 13 14 15 16 17 18 19 \r\n",
      "1 4 9 16 25 36 49 64 81 100 121 144 169 196 225 256 289 324 361 \r\n",
      "1 8 27 64 125 216 343 512 729 1000 1331 1728 2197 2744 3375 4096 4913 5832 6859 \r\n",
      "1 16 81 256 625 1296 2401 4096 6561 10000 14641 20736 28561 38416 50625 65536 83521 104976 130321 \r\n"
     ]
    }
   ],
   "source": [
    "%cat function_output.txt"
   ]
  }
 ],
 "metadata": {
  "kernelspec": {
   "display_name": "Python 3 (ipykernel)",
   "language": "python",
   "name": "python3"
  },
  "language_info": {
   "codemirror_mode": {
    "name": "ipython",
    "version": 3
   },
   "file_extension": ".py",
   "mimetype": "text/x-python",
   "name": "python",
   "nbconvert_exporter": "python",
   "pygments_lexer": "ipython3",
   "version": "3.9.7"
  },
  "toc": {
   "base_numbering": 1,
   "nav_menu": {},
   "number_sections": true,
   "sideBar": true,
   "skip_h1_title": false,
   "title_cell": "Table of Contents",
   "title_sidebar": "Contents",
   "toc_cell": false,
   "toc_position": {},
   "toc_section_display": true,
   "toc_window_display": false
  }
 },
 "nbformat": 4,
 "nbformat_minor": 5
}
