{
 "cells": [
  {
   "cell_type": "markdown",
   "id": "11a22a53",
   "metadata": {},
   "source": [
    "# Дектораторы\n",
    "\n",
    "В этом домашнем задании мы напишем собственные дектораторы, которые будут менять системные объекты. Но для начала мы с вами познакомимся с функцией `write`."
   ]
  },
  {
   "cell_type": "code",
   "execution_count": 40,
   "id": "2c2dc3b0",
   "metadata": {
    "ExecuteTime": {
     "end_time": "2022-11-23T06:57:46.587102Z",
     "start_time": "2022-11-23T06:57:46.578650Z"
    }
   },
   "outputs": [
    {
     "name": "stdout",
     "output_type": "stream",
     "text": [
      "Hello, my friend!"
     ]
    },
    {
     "data": {
      "text/plain": [
       "17"
      ]
     },
     "execution_count": 40,
     "metadata": {},
     "output_type": "execute_result"
    }
   ],
   "source": [
    "import sys\n",
    "import datetime\n",
    "from functools import wraps\n",
    "\n",
    "sys.stdout.write('Hello, my friend!')"
   ]
  },
  {
   "cell_type": "markdown",
   "id": "23c92635",
   "metadata": {},
   "source": [
    "Это метод объектов file-like классов, то есть классов, которые реализуют семантику \"Меня можно создать, из меня можно прочитать и в меня можно записать\".\n",
    "\n",
    "Самый главный пример такого объекта -- объект `file`, являющийся результатом вызова фукнции `open()`. Для простоты и универсальности взаимодействия, стандартный ввод и стандартный вывод тоже являются файлами, из которых можно читать и в которые можно писать. "
   ]
  },
  {
   "cell_type": "code",
   "execution_count": 2,
   "id": "0ce62055",
   "metadata": {
    "ExecuteTime": {
     "end_time": "2022-11-23T06:45:30.684862Z",
     "start_time": "2022-11-23T06:45:30.671983Z"
    }
   },
   "outputs": [],
   "source": [
    "output = open(\"./some_test_data.txt\", 'w')"
   ]
  },
  {
   "cell_type": "code",
   "execution_count": 3,
   "id": "302f574f",
   "metadata": {
    "ExecuteTime": {
     "end_time": "2022-11-23T06:45:30.945960Z",
     "start_time": "2022-11-23T06:45:30.937699Z"
    }
   },
   "outputs": [
    {
     "data": {
      "text/plain": [
       "3"
      ]
     },
     "execution_count": 3,
     "metadata": {},
     "output_type": "execute_result"
    }
   ],
   "source": [
    "output.write('123')"
   ]
  },
  {
   "cell_type": "code",
   "execution_count": 4,
   "id": "d08c53b4",
   "metadata": {
    "ExecuteTime": {
     "end_time": "2022-11-23T06:45:31.321185Z",
     "start_time": "2022-11-23T06:45:31.317671Z"
    }
   },
   "outputs": [],
   "source": [
    "output.close()"
   ]
  },
  {
   "cell_type": "markdown",
   "id": "b3bcebad",
   "metadata": {},
   "source": [
    "Как вы могли заметить, функция возвращает число записанных байт. Это важная часть контракта, которую нужно поддержать, если вы хотите как-то подменять эту функцию."
   ]
  },
  {
   "cell_type": "markdown",
   "id": "23b94491",
   "metadata": {},
   "source": [
    "## Задача 1"
   ]
  },
  {
   "cell_type": "markdown",
   "id": "1eb22a2f",
   "metadata": {},
   "source": [
    "Для начала, давайте подменим метод `write` у объекта `sys.stdin` на такую функцию, которая перед каждым вызовом оригинальной функции записи данных в `stdout` допечатывает к тексту текущую метку времени."
   ]
  },
  {
   "cell_type": "code",
   "execution_count": 5,
   "id": "ae3b46d0",
   "metadata": {
    "ExecuteTime": {
     "end_time": "2022-11-23T06:45:42.795021Z",
     "start_time": "2022-11-23T06:45:42.789802Z"
    }
   },
   "outputs": [],
   "source": [
    "original_write = sys.stdout.write"
   ]
  },
  {
   "cell_type": "code",
   "execution_count": 6,
   "id": "c599d8b5",
   "metadata": {
    "ExecuteTime": {
     "end_time": "2022-11-23T06:45:43.143300Z",
     "start_time": "2022-11-23T06:45:43.133751Z"
    }
   },
   "outputs": [
    {
     "name": "stdout",
     "output_type": "stream",
     "text": [
      "1, 2, 3\n"
     ]
    }
   ],
   "source": [
    "print('1, 2, 3')"
   ]
  },
  {
   "cell_type": "code",
   "execution_count": 11,
   "id": "732073b9",
   "metadata": {
    "ExecuteTime": {
     "end_time": "2022-11-23T06:49:32.804061Z",
     "start_time": "2022-11-23T06:49:32.797686Z"
    }
   },
   "outputs": [],
   "source": [
    "def my_write(string_text):\n",
    "    now_dt = datetime.datetime.now()\n",
    "    now_str = datetime.date.strftime(now_dt, format='%Y-%m-%d %H:%M:%S')\n",
    "    if string_text not in [None, '\\n', ' ', '\\t', '']:\n",
    "        new_text = f'[{now_str}]: {string_text}'\n",
    "        original_write(new_text)\n",
    "        return len(new_text)\n",
    "\n",
    "    original_write(string_text)\n",
    "    return len(string_text)\n",
    "    \n",
    "\n",
    "sys.stdout.write = my_write"
   ]
  },
  {
   "cell_type": "code",
   "execution_count": 12,
   "id": "f1072486",
   "metadata": {
    "ExecuteTime": {
     "end_time": "2022-11-23T06:49:33.554102Z",
     "start_time": "2022-11-23T06:49:33.548689Z"
    }
   },
   "outputs": [
    {
     "name": "stdout",
     "output_type": "stream",
     "text": [
      "[2022-11-23 09:49:33]: 1, 2, 3"
     ]
    },
    {
     "data": {
      "text/plain": [
       "30"
      ]
     },
     "execution_count": 12,
     "metadata": {},
     "output_type": "execute_result"
    }
   ],
   "source": [
    "sys.stdout.write('1, 2, 3')"
   ]
  },
  {
   "cell_type": "markdown",
   "id": "3c5e22b6",
   "metadata": {},
   "source": [
    "Вывод должен был бы быть примерно таким:"
   ]
  },
  {
   "cell_type": "markdown",
   "id": "e62d012d",
   "metadata": {},
   "source": [
    "```\n",
    "[2021-12-05 12:00:00]: 1, 2, 3\n",
    "```"
   ]
  },
  {
   "cell_type": "code",
   "execution_count": 25,
   "id": "3a6af333",
   "metadata": {
    "ExecuteTime": {
     "end_time": "2022-11-23T06:53:38.298565Z",
     "start_time": "2022-11-23T06:53:38.291781Z"
    }
   },
   "outputs": [
    {
     "name": "stdout",
     "output_type": "stream",
     "text": [
      "1, 2, 3\n"
     ]
    }
   ],
   "source": [
    "print('1, 2, 3')"
   ]
  },
  {
   "cell_type": "code",
   "execution_count": 24,
   "id": "37617332",
   "metadata": {
    "ExecuteTime": {
     "end_time": "2022-11-23T06:53:36.441192Z",
     "start_time": "2022-11-23T06:53:36.437663Z"
    }
   },
   "outputs": [],
   "source": [
    "sys.stdout.write = original_write"
   ]
  },
  {
   "cell_type": "markdown",
   "id": "903fcee1",
   "metadata": {},
   "source": [
    "## Задача 2\n",
    "\n",
    "Упакуйте только что написанный код в декторатор. Весь вывод фукнции должен быть помечен временными метками так, как видно выше."
   ]
  },
  {
   "cell_type": "code",
   "execution_count": 32,
   "id": "9c6f4d97",
   "metadata": {
    "ExecuteTime": {
     "end_time": "2022-11-23T06:54:37.999798Z",
     "start_time": "2022-11-23T06:54:37.995286Z"
    }
   },
   "outputs": [],
   "source": [
    "def timed_output(function):\n",
    "    def wrapper(*args):\n",
    "        now_dt = datetime.datetime.now()\n",
    "        now_str = datetime.date.strftime(now_dt, format='%Y-%m-%d %H:%M:%S')\n",
    "        extra_txt = '[' + now_str + ']: '\n",
    "        new_args = [extra_txt + a for a in args]\n",
    "        return function(*new_args)\n",
    "    return wrapper"
   ]
  },
  {
   "cell_type": "code",
   "execution_count": 33,
   "id": "f43373a5",
   "metadata": {
    "ExecuteTime": {
     "end_time": "2022-11-23T06:54:38.415816Z",
     "start_time": "2022-11-23T06:54:38.412915Z"
    }
   },
   "outputs": [],
   "source": [
    "@timed_output\n",
    "def print_greeting(name):\n",
    "    print(f'Hello, {name}!')"
   ]
  },
  {
   "cell_type": "code",
   "execution_count": 34,
   "id": "6a2283db",
   "metadata": {
    "ExecuteTime": {
     "end_time": "2022-11-23T06:54:38.858078Z",
     "start_time": "2022-11-23T06:54:38.854158Z"
    }
   },
   "outputs": [
    {
     "name": "stdout",
     "output_type": "stream",
     "text": [
      "Hello, [2022-11-23 09:54:38]: Nikita!\n"
     ]
    }
   ],
   "source": [
    "print_greeting(\"Nikita\")"
   ]
  },
  {
   "cell_type": "markdown",
   "id": "37fad5fd",
   "metadata": {},
   "source": [
    "Вывод должен быть похож на следующий:\n",
    "\n",
    "```\n",
    "[2021-12-05 12:00:00]: Hello, Nikita!\n",
    "```"
   ]
  },
  {
   "cell_type": "markdown",
   "id": "8a3aee6d",
   "metadata": {},
   "source": [
    "## Задача 3\n",
    "\n",
    "Напишите декторатор, который будет перенаправлять вывод фукнции в файл. \n",
    "\n",
    "Подсказка: вы можете заменить объект sys.stdout каким-нибудь другим объектом."
   ]
  },
  {
   "cell_type": "code",
   "execution_count": 41,
   "id": "81e1edcc",
   "metadata": {
    "ExecuteTime": {
     "end_time": "2022-11-23T06:58:10.540748Z",
     "start_time": "2022-11-23T06:58:10.533381Z"
    }
   },
   "outputs": [],
   "source": [
    "def redirect_output(filepath):\n",
    "    def decorator(func):\n",
    "        @wraps(func)\n",
    "        def wrapper(*args):\n",
    "            original_stdout = sys.stdout\n",
    "            with open(filepath, \"w\") as f:\n",
    "                sys.stdout = f\n",
    "                ret = func(*args)\n",
    "            sys.stdout = original_stdout\n",
    "            return ret\n",
    "        return wrapper\n",
    "    return decorator\n",
    "    "
   ]
  },
  {
   "cell_type": "code",
   "execution_count": 42,
   "id": "37e01742",
   "metadata": {
    "ExecuteTime": {
     "end_time": "2022-11-23T06:58:11.377948Z",
     "start_time": "2022-11-23T06:58:11.372971Z"
    }
   },
   "outputs": [],
   "source": [
    "@redirect_output('./function_output.txt')\n",
    "def calculate():\n",
    "    for power in range(1, 5):\n",
    "        for num in range(1, 20):\n",
    "            print(num ** power, end=' ')\n",
    "        print()"
   ]
  },
  {
   "cell_type": "code",
   "execution_count": 43,
   "id": "e892f124",
   "metadata": {
    "ExecuteTime": {
     "end_time": "2022-11-23T06:58:12.497506Z",
     "start_time": "2022-11-23T06:58:12.492647Z"
    }
   },
   "outputs": [],
   "source": [
    "calculate()"
   ]
  },
  {
   "cell_type": "code",
   "execution_count": 44,
   "id": "ac06c89e",
   "metadata": {
    "ExecuteTime": {
     "end_time": "2022-11-23T06:58:13.264028Z",
     "start_time": "2022-11-23T06:58:13.120303Z"
    }
   },
   "outputs": [
    {
     "name": "stdout",
     "output_type": "stream",
     "text": [
      "1 2 3 4 5 6 7 8 9 10 11 12 13 14 15 16 17 18 19 \r\n",
      "1 4 9 16 25 36 49 64 81 100 121 144 169 196 225 256 289 324 361 \r\n",
      "1 8 27 64 125 216 343 512 729 1000 1331 1728 2197 2744 3375 4096 4913 5832 6859 \r\n",
      "1 16 81 256 625 1296 2401 4096 6561 10000 14641 20736 28561 38416 50625 65536 83521 104976 130321 \r\n"
     ]
    }
   ],
   "source": [
    "%cat function_output.txt"
   ]
  },
  {
   "cell_type": "code",
   "execution_count": 45,
   "id": "fb67ae03",
   "metadata": {
    "ExecuteTime": {
     "end_time": "2022-11-23T06:58:14.966877Z",
     "start_time": "2022-11-23T06:58:14.959239Z"
    }
   },
   "outputs": [
    {
     "data": {
      "text/plain": [
       "'calculate'"
      ]
     },
     "execution_count": 45,
     "metadata": {},
     "output_type": "execute_result"
    }
   ],
   "source": [
    "calculate.__name__"
   ]
  }
 ],
 "metadata": {
  "kernelspec": {
   "display_name": "Python 3 (ipykernel)",
   "language": "python",
   "name": "python3"
  },
  "language_info": {
   "codemirror_mode": {
    "name": "ipython",
    "version": 3
   },
   "file_extension": ".py",
   "mimetype": "text/x-python",
   "name": "python",
   "nbconvert_exporter": "python",
   "pygments_lexer": "ipython3",
   "version": "3.9.7"
  },
  "toc": {
   "base_numbering": 1,
   "nav_menu": {},
   "number_sections": true,
   "sideBar": true,
   "skip_h1_title": false,
   "title_cell": "Table of Contents",
   "title_sidebar": "Contents",
   "toc_cell": false,
   "toc_position": {},
   "toc_section_display": true,
   "toc_window_display": false
  }
 },
 "nbformat": 4,
 "nbformat_minor": 5
}
